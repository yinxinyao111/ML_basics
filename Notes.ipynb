{
 "cells": [
  {
   "cell_type": "markdown",
   "id": "b14efc7f-d657-4281-9b1b-d8b9ea0e4ef9",
   "metadata": {},
   "source": [
    "Getting toy dataset:\n",
    "- from sklearn.datasets import ... (ex. make_circles / make_blobs)\n",
    "\n",
    "Create train test split:\n",
    "- from sklearn.model_selection import train_test_split\n",
    "\n",
    "Display some images in the data exploration process:\n",
    "\n",
    ">fig = plt.figure(figsize = (9, 9))  \n",
    "rows, cols = 4, 4  \n",
    "for i in range(1, rows*cols+1):  \n",
    "    >>random_idx = torch.randint(0, len(train_data), size = (1,)).item()  \n",
    "    img, label = train_data[random_idx]  \n",
    "    fig.add_subplot(rows, cols, i)  \n",
    "    plt.imshow(img.squeeze())  \n",
    "    plt.title(class_names[label])  \n",
    "    plt.axis(False)\n",
    "\n",
    "\n"
   ]
  }
 ],
 "metadata": {
  "kernelspec": {
   "display_name": "Python 3 (ipykernel)",
   "language": "python",
   "name": "python3"
  },
  "language_info": {
   "codemirror_mode": {
    "name": "ipython",
    "version": 3
   },
   "file_extension": ".py",
   "mimetype": "text/x-python",
   "name": "python",
   "nbconvert_exporter": "python",
   "pygments_lexer": "ipython3",
   "version": "3.12.2"
  }
 },
 "nbformat": 4,
 "nbformat_minor": 5
}
