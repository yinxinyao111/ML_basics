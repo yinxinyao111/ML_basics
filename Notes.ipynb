{
 "cells": [
  {
   "cell_type": "markdown",
   "id": "b14efc7f-d657-4281-9b1b-d8b9ea0e4ef9",
   "metadata": {},
   "source": [
    "Getting toy dataset:\n",
    "- from sklearn.datasets import ... (ex. make_circles / make_blobs)\n",
    "\n",
    "Create train test split:\n",
    "- from sklearn.model_selection import train_test_split"
   ]
  }
 ],
 "metadata": {
  "kernelspec": {
   "display_name": "Python 3 (ipykernel)",
   "language": "python",
   "name": "python3"
  },
  "language_info": {
   "codemirror_mode": {
    "name": "ipython",
    "version": 3
   },
   "file_extension": ".py",
   "mimetype": "text/x-python",
   "name": "python",
   "nbconvert_exporter": "python",
   "pygments_lexer": "ipython3",
   "version": "3.12.2"
  }
 },
 "nbformat": 4,
 "nbformat_minor": 5
}
