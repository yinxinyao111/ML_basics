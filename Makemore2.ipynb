{
 "cells": [
  {
   "cell_type": "markdown",
   "id": "3214682f-0aa0-4bed-877f-e98574f61eab",
   "metadata": {},
   "source": [
    "MLP Method (Multilayer perceptron by Bengio 2003, A Neural Probabilistic Language Model)\n",
    "\n",
    "We are building a character level language model, in the paper, there are 17000 possible words (they build word level language model)\n",
    "But use the same modelling approach.\n",
    "\n",
    "Paper proposed: \n",
    "- Take every word, assiciate to each word 30 dimensional feature vector (every word is embedded in a 30 dimensional space)\n",
    "- At the beginning, words are initialized randomly\n",
    "- Then tune the embeddings of these words using backpropagation\n",
    "- Words that have similar meaning end up in a similar space\n",
    "- Modelling approach:\n",
    "  1. Using multilayer neural network to predict the next word given previous words\n",
    "  2. To train the neural network, maximize the log-likelihood of training data\n",
    "\n",
    "![](bengio.png )"
   ]
  },
  {
   "cell_type": "markdown",
   "id": "5a49ec44-8593-4674-8264-e4186cf20b9c",
   "metadata": {},
   "source": [
    "In the image, we are taking 3 previous words and try to predict the 4th word in the sequence\n",
    "\n",
    "index is between 0 and 16999\n",
    "\n",
    "The lookup table: [rows: 17000, columns: 30] (every row is a embedding matrix for one word)\n",
    "\n",
    "Input layer has 30*3 neurons total (3 words)\n",
    "\n",
    "Say there are 100 neurons in the hidden layer, all of them will be fully connected to the 90 numbers that make up these 3 words\n",
    "\n",
    "Output layer: because there are 17000 words that can come next, the output layer has 17000 neurons\n",
    "(Meaning there are 17000 logits at the output layer)\n",
    "\n",
    "After output layer, there is softmax: \n",
    "- every logit is exponentiated and normalized to sum up to 1, so that we have a probability distribution for the next wordin the sequence"
   ]
  },
  {
   "cell_type": "code",
   "execution_count": 1,
   "id": "61a73f17-bd68-4cb4-b149-952ff2aa8a19",
   "metadata": {},
   "outputs": [],
   "source": [
    "import torch\n",
    "import torch.nn.functional as F\n",
    "import matplotlib.pyplot as plt"
   ]
  },
  {
   "cell_type": "code",
   "execution_count": 2,
   "id": "097bbe9d-ed9e-43e8-ba42-f723d62af150",
   "metadata": {},
   "outputs": [
    {
     "data": {
      "text/plain": [
       "(['emma', 'olivia', 'ava', 'isabella', 'sophia', 'charlotte', 'mia', 'amelia'],\n",
       " 32033)"
      ]
     },
     "execution_count": 2,
     "metadata": {},
     "output_type": "execute_result"
    }
   ],
   "source": [
    "words = open(\"names.txt\", \"r\").read().splitlines()\n",
    "words[:8], len(words)"
   ]
  },
  {
   "cell_type": "code",
   "execution_count": 18,
   "id": "563464dd-75e3-48c2-86d8-68a53b971c3d",
   "metadata": {},
   "outputs": [
    {
     "data": {
      "text/plain": [
       "{'a': 1,\n",
       " 'b': 2,\n",
       " 'c': 3,\n",
       " 'd': 4,\n",
       " 'e': 5,\n",
       " 'f': 6,\n",
       " 'g': 7,\n",
       " 'h': 8,\n",
       " 'i': 9,\n",
       " 'j': 10,\n",
       " 'k': 11,\n",
       " 'l': 12,\n",
       " 'm': 13,\n",
       " 'n': 14,\n",
       " 'o': 15,\n",
       " 'p': 16,\n",
       " 'q': 17,\n",
       " 'r': 18,\n",
       " 's': 19,\n",
       " 't': 20,\n",
       " 'u': 21,\n",
       " 'v': 22,\n",
       " 'w': 23,\n",
       " 'x': 24,\n",
       " 'y': 25,\n",
       " 'z': 26,\n",
       " '.': 0}"
      ]
     },
     "execution_count": 18,
     "metadata": {},
     "output_type": "execute_result"
    }
   ],
   "source": [
    "chars = sorted(list(set(''.join(words))))\n",
    "stoi = {s:i+1 for i,s in enumerate(chars)}\n",
    "stoi[\".\"] = 0\n",
    "itos = {i:s for s,i in stoi.items()}\n",
    "stoi"
   ]
  },
  {
   "cell_type": "code",
   "execution_count": 169,
   "id": "15d60da7-c209-4c3a-a2b2-530080f42fe6",
   "metadata": {},
   "outputs": [
    {
     "data": {
      "text/plain": [
       "torch.Size([228146])"
      ]
     },
     "execution_count": 169,
     "metadata": {},
     "output_type": "execute_result"
    }
   ],
   "source": [
    "# Building a dataset\n",
    "X, Y = [], [] # X: input, Y: labels for X\n",
    "blocksize = 3 # context length: how many characters do we take to predict the next one\n",
    "\n",
    "for w in words:\n",
    "    #print(w) \n",
    "    context = [0]*blocksize # 3 indeces of chars\n",
    "    for ch in w+'.':\n",
    "        ix = stoi[ch] # current index of char\n",
    "        X.append(context) # append the three training indeces \n",
    "        Y.append(ix) # append the label index\n",
    "        #print(''.join(itos[i] for i in context), '--->', itos[ix])\n",
    "        context = context[1:] + [ix] # take out the first char and add the new ch index, like a moving window\n",
    "X = torch.tensor(X)\n",
    "Y = torch.tensor(Y)\n",
    "Y.shape"
   ]
  },
  {
   "cell_type": "code",
   "execution_count": 170,
   "id": "73808025-399c-420a-b933-413c36cec1f6",
   "metadata": {},
   "outputs": [
    {
     "data": {
      "text/plain": [
       "(torch.Size([228146, 3]), torch.int64, torch.Size([228146]), torch.int64)"
      ]
     },
     "execution_count": 170,
     "metadata": {},
     "output_type": "execute_result"
    }
   ],
   "source": [
    "X.shape, X.dtype, Y.shape, Y.dtype"
   ]
  },
  {
   "cell_type": "markdown",
   "id": "35531d76-8f8e-4da3-8082-c923f256d4d4",
   "metadata": {},
   "source": [
    "Write a neural network that takes X and predicts Y\n",
    "\n",
    "### Step 1: Build embedding table C\n",
    "\n",
    "We have 27 distinct characters, we embed them in lower dimensional space (in the paper, each of the 27000 words has 30 dimensions)\n",
    "\n",
    "For our example, just embed them in two dimensional space"
   ]
  },
  {
   "cell_type": "code",
   "execution_count": 62,
   "id": "29f7a55e-eb2e-4028-8813-461ba5e352a6",
   "metadata": {},
   "outputs": [
    {
     "data": {
      "text/plain": [
       "tensor([[-0.1062,  1.9810],\n",
       "        [ 0.3337,  0.6274],\n",
       "        [ 1.4286,  0.5235],\n",
       "        [ 0.2170, -0.2418],\n",
       "        [ 0.2345, -1.4610],\n",
       "        [-1.6077, -0.8152],\n",
       "        [ 0.0077, -1.4244],\n",
       "        [-0.2584,  0.0433],\n",
       "        [ 1.4330,  0.4925],\n",
       "        [-0.0907,  0.3799],\n",
       "        [ 0.5027,  0.4956],\n",
       "        [-0.7416,  1.9521],\n",
       "        [ 1.3766,  2.2759],\n",
       "        [ 0.5579,  0.7660],\n",
       "        [ 1.4955, -1.9608],\n",
       "        [-0.0954,  0.5405],\n",
       "        [ 1.6764, -0.4134],\n",
       "        [ 1.7565,  0.4680],\n",
       "        [-0.2730,  1.2168],\n",
       "        [ 0.4698,  0.9556],\n",
       "        [-1.9975,  1.3470],\n",
       "        [ 0.6157, -0.7740],\n",
       "        [-0.1052, -0.8876],\n",
       "        [-1.4741,  1.4232],\n",
       "        [-0.1948, -1.3847],\n",
       "        [-1.1861, -1.7313],\n",
       "        [ 0.2922, -0.9647]])"
      ]
     },
     "execution_count": 62,
     "metadata": {},
     "output_type": "execute_result"
    }
   ],
   "source": [
    "C = torch.randn(27, 2)\n",
    "C"
   ]
  },
  {
   "cell_type": "code",
   "execution_count": 46,
   "id": "4472d4c3-9191-486c-91fa-ba4384626a0d",
   "metadata": {},
   "outputs": [
    {
     "data": {
      "text/plain": [
       "tensor([-0.3441, -0.9719])"
      ]
     },
     "execution_count": 46,
     "metadata": {},
     "output_type": "execute_result"
    }
   ],
   "source": [
    "F.one_hot(torch.tensor(5), num_classes=27).float() @ C"
   ]
  },
  {
   "cell_type": "code",
   "execution_count": 47,
   "id": "48176098-9f75-45ec-a17f-91a823e82234",
   "metadata": {},
   "outputs": [
    {
     "data": {
      "text/plain": [
       "tensor([-0.3441, -0.9719])"
      ]
     },
     "execution_count": 47,
     "metadata": {},
     "output_type": "execute_result"
    }
   ],
   "source": [
    "C[5] \n",
    "# Embedding a single integer is easy, but how to simultaneously embed X that is 32 rows by 3 cols?"
   ]
  },
  {
   "cell_type": "code",
   "execution_count": 63,
   "id": "87456319-3871-49a3-a528-42a4ebaef704",
   "metadata": {},
   "outputs": [
    {
     "data": {
      "text/plain": [
       "(tensor([[[-0.1062,  1.9810],\n",
       "          [-0.1062,  1.9810],\n",
       "          [-0.1062,  1.9810]],\n",
       " \n",
       "         [[-0.1062,  1.9810],\n",
       "          [-0.1062,  1.9810],\n",
       "          [-1.6077, -0.8152]],\n",
       " \n",
       "         [[-0.1062,  1.9810],\n",
       "          [-1.6077, -0.8152],\n",
       "          [ 0.5579,  0.7660]],\n",
       " \n",
       "         [[-1.6077, -0.8152],\n",
       "          [ 0.5579,  0.7660],\n",
       "          [ 0.5579,  0.7660]],\n",
       " \n",
       "         [[ 0.5579,  0.7660],\n",
       "          [ 0.5579,  0.7660],\n",
       "          [ 0.3337,  0.6274]],\n",
       " \n",
       "         [[-0.1062,  1.9810],\n",
       "          [-0.1062,  1.9810],\n",
       "          [-0.1062,  1.9810]],\n",
       " \n",
       "         [[-0.1062,  1.9810],\n",
       "          [-0.1062,  1.9810],\n",
       "          [-0.0954,  0.5405]],\n",
       " \n",
       "         [[-0.1062,  1.9810],\n",
       "          [-0.0954,  0.5405],\n",
       "          [ 1.3766,  2.2759]],\n",
       " \n",
       "         [[-0.0954,  0.5405],\n",
       "          [ 1.3766,  2.2759],\n",
       "          [-0.0907,  0.3799]],\n",
       " \n",
       "         [[ 1.3766,  2.2759],\n",
       "          [-0.0907,  0.3799],\n",
       "          [-0.1052, -0.8876]],\n",
       " \n",
       "         [[-0.0907,  0.3799],\n",
       "          [-0.1052, -0.8876],\n",
       "          [-0.0907,  0.3799]],\n",
       " \n",
       "         [[-0.1052, -0.8876],\n",
       "          [-0.0907,  0.3799],\n",
       "          [ 0.3337,  0.6274]],\n",
       " \n",
       "         [[-0.1062,  1.9810],\n",
       "          [-0.1062,  1.9810],\n",
       "          [-0.1062,  1.9810]],\n",
       " \n",
       "         [[-0.1062,  1.9810],\n",
       "          [-0.1062,  1.9810],\n",
       "          [ 0.3337,  0.6274]],\n",
       " \n",
       "         [[-0.1062,  1.9810],\n",
       "          [ 0.3337,  0.6274],\n",
       "          [-0.1052, -0.8876]],\n",
       " \n",
       "         [[ 0.3337,  0.6274],\n",
       "          [-0.1052, -0.8876],\n",
       "          [ 0.3337,  0.6274]],\n",
       " \n",
       "         [[-0.1062,  1.9810],\n",
       "          [-0.1062,  1.9810],\n",
       "          [-0.1062,  1.9810]],\n",
       " \n",
       "         [[-0.1062,  1.9810],\n",
       "          [-0.1062,  1.9810],\n",
       "          [-0.0907,  0.3799]],\n",
       " \n",
       "         [[-0.1062,  1.9810],\n",
       "          [-0.0907,  0.3799],\n",
       "          [ 0.4698,  0.9556]],\n",
       " \n",
       "         [[-0.0907,  0.3799],\n",
       "          [ 0.4698,  0.9556],\n",
       "          [ 0.3337,  0.6274]],\n",
       " \n",
       "         [[ 0.4698,  0.9556],\n",
       "          [ 0.3337,  0.6274],\n",
       "          [ 1.4286,  0.5235]],\n",
       " \n",
       "         [[ 0.3337,  0.6274],\n",
       "          [ 1.4286,  0.5235],\n",
       "          [-1.6077, -0.8152]],\n",
       " \n",
       "         [[ 1.4286,  0.5235],\n",
       "          [-1.6077, -0.8152],\n",
       "          [ 1.3766,  2.2759]],\n",
       " \n",
       "         [[-1.6077, -0.8152],\n",
       "          [ 1.3766,  2.2759],\n",
       "          [ 1.3766,  2.2759]],\n",
       " \n",
       "         [[ 1.3766,  2.2759],\n",
       "          [ 1.3766,  2.2759],\n",
       "          [ 0.3337,  0.6274]],\n",
       " \n",
       "         [[-0.1062,  1.9810],\n",
       "          [-0.1062,  1.9810],\n",
       "          [-0.1062,  1.9810]],\n",
       " \n",
       "         [[-0.1062,  1.9810],\n",
       "          [-0.1062,  1.9810],\n",
       "          [ 0.4698,  0.9556]],\n",
       " \n",
       "         [[-0.1062,  1.9810],\n",
       "          [ 0.4698,  0.9556],\n",
       "          [-0.0954,  0.5405]],\n",
       " \n",
       "         [[ 0.4698,  0.9556],\n",
       "          [-0.0954,  0.5405],\n",
       "          [ 1.6764, -0.4134]],\n",
       " \n",
       "         [[-0.0954,  0.5405],\n",
       "          [ 1.6764, -0.4134],\n",
       "          [ 1.4330,  0.4925]],\n",
       " \n",
       "         [[ 1.6764, -0.4134],\n",
       "          [ 1.4330,  0.4925],\n",
       "          [-0.0907,  0.3799]],\n",
       " \n",
       "         [[ 1.4330,  0.4925],\n",
       "          [-0.0907,  0.3799],\n",
       "          [ 0.3337,  0.6274]]]),\n",
       " torch.Size([32, 3, 2]))"
      ]
     },
     "execution_count": 63,
     "metadata": {},
     "output_type": "execute_result"
    }
   ],
   "source": [
    "C[torch.tensor([5,6,7,7,7,7])]\n",
    "C[X], C[X].shape # originally X is 32 by 3, and we swapped each int with the embedding, so 32 by 3 by 2"
   ]
  },
  {
   "cell_type": "code",
   "execution_count": 67,
   "id": "448fc48e-12c6-422d-b97e-9eb9e75b9897",
   "metadata": {},
   "outputs": [
    {
     "data": {
      "text/plain": [
       "torch.Size([32, 3, 2])"
      ]
     },
     "execution_count": 67,
     "metadata": {},
     "output_type": "execute_result"
    }
   ],
   "source": [
    "X[13,2], C[X][13,2]\n",
    "emb = C[X]\n",
    "emb.shape # 32 length 3 tuples, each char inside is 2 dimensional"
   ]
  },
  {
   "cell_type": "markdown",
   "id": "d0d464c0-a1af-4991-a126-73f5a37950eb",
   "metadata": {},
   "source": [
    "### Construct hidden layer"
   ]
  },
  {
   "cell_type": "code",
   "execution_count": 94,
   "id": "af3bf689-1dca-462b-8284-d3d43998808c",
   "metadata": {},
   "outputs": [],
   "source": [
    "W1 = torch.randn((6, 100)) # use 100 neurons, num of inputs = 2 dimensional embeddings * 3 of them (from graph)\n",
    "b1 = torch.randn(100)"
   ]
  },
  {
   "cell_type": "code",
   "execution_count": 74,
   "id": "b21aaf56-9ce0-414b-901b-bd6fdbf100e6",
   "metadata": {},
   "outputs": [
    {
     "data": {
      "text/plain": [
       "torch.Size([32, 6])"
      ]
     },
     "execution_count": 74,
     "metadata": {},
     "output_type": "execute_result"
    }
   ],
   "source": [
    "torch.cat([emb[:, 0, :], emb[:, 1, :], emb[:, 2, :]], dim = 1).shape\n",
    "# cat the first element with the 2nd with the 3rd for all the 32 tuples using 2 dimens-embedding"
   ]
  },
  {
   "cell_type": "code",
   "execution_count": 85,
   "id": "333ab8ac-cc8a-4480-8784-d4671e902c1c",
   "metadata": {},
   "outputs": [
    {
     "data": {
      "text/plain": [
       "torch.Size([32, 6])"
      ]
     },
     "execution_count": 85,
     "metadata": {},
     "output_type": "execute_result"
    }
   ],
   "source": [
    "torch.cat(torch.unbind(emb, 1), 1).shape"
   ]
  },
  {
   "cell_type": "code",
   "execution_count": 90,
   "id": "65f15a20-b8c9-4a87-9c83-ea5c47137916",
   "metadata": {},
   "outputs": [
    {
     "data": {
      "text/plain": [
       "tensor([[[ 0,  1],\n",
       "         [ 2,  3],\n",
       "         [ 4,  5]],\n",
       "\n",
       "        [[ 6,  7],\n",
       "         [ 8,  9],\n",
       "         [10, 11]],\n",
       "\n",
       "        [[12, 13],\n",
       "         [14, 15],\n",
       "         [16, 17]]])"
      ]
     },
     "execution_count": 90,
     "metadata": {},
     "output_type": "execute_result"
    }
   ],
   "source": [
    "a = torch.arange(18)\n",
    "a.shape\n",
    "a.view(3, 3, 2)"
   ]
  },
  {
   "cell_type": "code",
   "execution_count": 91,
   "id": "53014738-cc76-41e6-b512-5237a0af4a64",
   "metadata": {},
   "outputs": [
    {
     "data": {
      "text/plain": [
       "<bound method Tensor.storage of tensor([ 0,  1,  2,  3,  4,  5,  6,  7,  8,  9, 10, 11, 12, 13, 14, 15, 16, 17])>"
      ]
     },
     "execution_count": 91,
     "metadata": {},
     "output_type": "execute_result"
    }
   ],
   "source": [
    "a.storage "
   ]
  },
  {
   "cell_type": "code",
   "execution_count": 92,
   "id": "422bce8a-cc0c-4e39-9207-dd2258110003",
   "metadata": {},
   "outputs": [
    {
     "data": {
      "text/plain": [
       "tensor([[-0.1062,  1.9810, -0.1062,  1.9810, -0.1062,  1.9810],\n",
       "        [-0.1062,  1.9810, -0.1062,  1.9810, -1.6077, -0.8152],\n",
       "        [-0.1062,  1.9810, -1.6077, -0.8152,  0.5579,  0.7660],\n",
       "        [-1.6077, -0.8152,  0.5579,  0.7660,  0.5579,  0.7660],\n",
       "        [ 0.5579,  0.7660,  0.5579,  0.7660,  0.3337,  0.6274],\n",
       "        [-0.1062,  1.9810, -0.1062,  1.9810, -0.1062,  1.9810],\n",
       "        [-0.1062,  1.9810, -0.1062,  1.9810, -0.0954,  0.5405],\n",
       "        [-0.1062,  1.9810, -0.0954,  0.5405,  1.3766,  2.2759],\n",
       "        [-0.0954,  0.5405,  1.3766,  2.2759, -0.0907,  0.3799],\n",
       "        [ 1.3766,  2.2759, -0.0907,  0.3799, -0.1052, -0.8876],\n",
       "        [-0.0907,  0.3799, -0.1052, -0.8876, -0.0907,  0.3799],\n",
       "        [-0.1052, -0.8876, -0.0907,  0.3799,  0.3337,  0.6274],\n",
       "        [-0.1062,  1.9810, -0.1062,  1.9810, -0.1062,  1.9810],\n",
       "        [-0.1062,  1.9810, -0.1062,  1.9810,  0.3337,  0.6274],\n",
       "        [-0.1062,  1.9810,  0.3337,  0.6274, -0.1052, -0.8876],\n",
       "        [ 0.3337,  0.6274, -0.1052, -0.8876,  0.3337,  0.6274],\n",
       "        [-0.1062,  1.9810, -0.1062,  1.9810, -0.1062,  1.9810],\n",
       "        [-0.1062,  1.9810, -0.1062,  1.9810, -0.0907,  0.3799],\n",
       "        [-0.1062,  1.9810, -0.0907,  0.3799,  0.4698,  0.9556],\n",
       "        [-0.0907,  0.3799,  0.4698,  0.9556,  0.3337,  0.6274],\n",
       "        [ 0.4698,  0.9556,  0.3337,  0.6274,  1.4286,  0.5235],\n",
       "        [ 0.3337,  0.6274,  1.4286,  0.5235, -1.6077, -0.8152],\n",
       "        [ 1.4286,  0.5235, -1.6077, -0.8152,  1.3766,  2.2759],\n",
       "        [-1.6077, -0.8152,  1.3766,  2.2759,  1.3766,  2.2759],\n",
       "        [ 1.3766,  2.2759,  1.3766,  2.2759,  0.3337,  0.6274],\n",
       "        [-0.1062,  1.9810, -0.1062,  1.9810, -0.1062,  1.9810],\n",
       "        [-0.1062,  1.9810, -0.1062,  1.9810,  0.4698,  0.9556],\n",
       "        [-0.1062,  1.9810,  0.4698,  0.9556, -0.0954,  0.5405],\n",
       "        [ 0.4698,  0.9556, -0.0954,  0.5405,  1.6764, -0.4134],\n",
       "        [-0.0954,  0.5405,  1.6764, -0.4134,  1.4330,  0.4925],\n",
       "        [ 1.6764, -0.4134,  1.4330,  0.4925, -0.0907,  0.3799],\n",
       "        [ 1.4330,  0.4925, -0.0907,  0.3799,  0.3337,  0.6274]])"
      ]
     },
     "execution_count": 92,
     "metadata": {},
     "output_type": "execute_result"
    }
   ],
   "source": [
    "emb.view(32, 6)"
   ]
  },
  {
   "cell_type": "code",
   "execution_count": 97,
   "id": "028f32e4-7840-41af-9b43-f7344128e69c",
   "metadata": {},
   "outputs": [
    {
     "data": {
      "text/plain": [
       "torch.Size([32, 100])"
      ]
     },
     "execution_count": 97,
     "metadata": {},
     "output_type": "execute_result"
    }
   ],
   "source": [
    "h = torch.tanh(emb.view(32, 6) @ W1 + b1)\n",
    "h.shape"
   ]
  },
  {
   "cell_type": "markdown",
   "id": "00a7dd82-76bb-4d51-9407-f14079402da7",
   "metadata": {},
   "source": [
    "### Create final layer"
   ]
  },
  {
   "cell_type": "code",
   "execution_count": 98,
   "id": "56984d74-1218-40e7-ab62-5fe21ffb99ae",
   "metadata": {},
   "outputs": [
    {
     "data": {
      "text/plain": [
       "torch.Size([32, 27])"
      ]
     },
     "execution_count": 98,
     "metadata": {},
     "output_type": "execute_result"
    }
   ],
   "source": [
    "W2 = torch.randn(100, 27)\n",
    "b2 = torch.randn(27)\n",
    "logits = h @ W2 + b2\n",
    "logits.shape"
   ]
  },
  {
   "cell_type": "code",
   "execution_count": 100,
   "id": "fc8f180c-7fe3-4c4c-a54c-7d76092f72cb",
   "metadata": {},
   "outputs": [
    {
     "data": {
      "text/plain": [
       "(torch.Size([32, 27]), tensor(1.))"
      ]
     },
     "execution_count": 100,
     "metadata": {},
     "output_type": "execute_result"
    }
   ],
   "source": [
    "counts = logits.exp() # exponentiate to get fake counts\n",
    "prob = counts / counts.sum(dim = 1, keepdims = True)\n",
    "prob.shape, prob[0].sum()"
   ]
  },
  {
   "cell_type": "code",
   "execution_count": 113,
   "id": "b8d99908-f6af-4bba-af83-38ddc90b95b1",
   "metadata": {},
   "outputs": [
    {
     "data": {
      "text/plain": [
       "tensor(18.0412)"
      ]
     },
     "execution_count": 113,
     "metadata": {},
     "output_type": "execute_result"
    }
   ],
   "source": [
    "loss = -prob[torch.arange(32), Y].log().mean() # Get the probabilities of the real next letter, iterates all rows and index into each one with Y\n",
    "# ideally the below probabilities are 1, prob[torch.arange(32), Y]\n"
   ]
  },
  {
   "cell_type": "code",
   "execution_count": 114,
   "id": "8671d64a-d6d5-421e-93bf-09198357602b",
   "metadata": {},
   "outputs": [
    {
     "data": {
      "text/plain": [
       "tensor(18.0412)"
      ]
     },
     "execution_count": 114,
     "metadata": {},
     "output_type": "execute_result"
    }
   ],
   "source": [
    "F.cross_entropy(logits, Y)"
   ]
  },
  {
   "cell_type": "code",
   "execution_count": 117,
   "id": "89895616-eaae-4558-8a17-966a641c49be",
   "metadata": {},
   "outputs": [
    {
     "data": {
      "text/plain": [
       "tensor(3.7835e-44)"
      ]
     },
     "execution_count": 117,
     "metadata": {},
     "output_type": "execute_result"
    }
   ],
   "source": [
    "torch.tensor(-100).exp()"
   ]
  },
  {
   "cell_type": "code",
   "execution_count": 230,
   "id": "9e77f1a7-bca4-4422-a824-c25bfcec169f",
   "metadata": {},
   "outputs": [],
   "source": [
    "g = torch.Generator().manual_seed(42)\n",
    "C = torch.randn(size = (27, 2), generator = g) # Embedding\n",
    "W1 = torch.randn(size = (6, 300), generator = g)\n",
    "b1 = torch.randn(300, generator = g)\n",
    "W2 = torch.randn(size = (300, 27), generator = g)\n",
    "b2 = torch.randn(27, generator = g)\n",
    "parameters = [C, W1, b1, W2, b2]\n"
   ]
  },
  {
   "cell_type": "code",
   "execution_count": 231,
   "id": "00bdb713-de78-4f9d-a57c-178a6e5ea0fd",
   "metadata": {},
   "outputs": [],
   "source": [
    "for p in parameters:\n",
    "    p.requires_grad = True"
   ]
  },
  {
   "cell_type": "code",
   "execution_count": 239,
   "id": "7988689f-fad6-4bb8-9961-76324b278d05",
   "metadata": {},
   "outputs": [
    {
     "name": "stdout",
     "output_type": "stream",
     "text": [
      "2.1115479469299316\n"
     ]
    }
   ],
   "source": [
    "for _ in range(30000):\n",
    "\n",
    "    # minibatch construct\n",
    "    ix = torch.randint(0, Xtr.shape[0], (32,))\n",
    "    # Forward pass\n",
    "    emb = C[Xtr[ix]] # (32, 3, 2)\n",
    "    h = torch.tanh(emb.view(-1, 6) @ W1 + b1)\n",
    "    logits = h @ W2 + b2\n",
    "    loss = F.cross_entropy(logits, Ytr[ix])\n",
    "\n",
    "    # Backward pass\n",
    "    for p in parameters:\n",
    "        p.grad = None\n",
    "    loss.backward()\n",
    "    # Parameter update\n",
    "    for p in parameters:\n",
    "        p.data += -0.01*p.grad\n",
    "print(loss.item())\n",
    "# Mini batches makes the quality of gradient lower, direction is not as reliable (may not be the actual gradient direction)\n",
    "# It is much better to have an approximate gradient and make more steps than it is to evaluate the exact gradient"
   ]
  },
  {
   "cell_type": "code",
   "execution_count": 166,
   "id": "e74d33e8-6070-4a71-a792-97651e597678",
   "metadata": {},
   "outputs": [
    {
     "data": {
      "text/plain": [
       "torch.return_types.max(\n",
       "values=tensor([14.6696, 21.5051, 19.0990, 19.5725, 24.2702, 14.6696, 17.0600, 26.7231,\n",
       "        18.2888, 19.9783, 16.5475, 23.8208, 14.6696, 22.3720, 18.9650, 23.1533,\n",
       "        14.6696, 17.7551, 15.8979, 18.6342, 17.6206, 21.0829, 22.1528, 19.7094,\n",
       "        22.5920, 14.6696, 19.2268, 17.3505, 19.2084, 21.9973, 17.8243, 24.3269],\n",
       "       grad_fn=<MaxBackward0>),\n",
       "indices=tensor([ 9, 13, 13,  1,  0,  9, 12,  9, 22,  9,  1,  0,  9, 22,  1,  0,  9, 19,\n",
       "         1,  2,  5, 12, 12,  1,  0,  9, 15, 16,  8,  9,  1,  0]))"
      ]
     },
     "execution_count": 166,
     "metadata": {},
     "output_type": "execute_result"
    }
   ],
   "source": [
    "logits.max(1)"
   ]
  },
  {
   "cell_type": "code",
   "execution_count": 167,
   "id": "6cba5b83-13f0-493d-846e-93fb789ecd16",
   "metadata": {},
   "outputs": [
    {
     "data": {
      "text/plain": [
       "tensor([ 5, 13, 13,  1,  0, 15, 12,  9, 22,  9,  1,  0,  1, 22,  1,  0,  9, 19,\n",
       "         1,  2,  5, 12, 12,  1,  0, 19, 15, 16,  8,  9,  1,  0])"
      ]
     },
     "execution_count": 167,
     "metadata": {},
     "output_type": "execute_result"
    }
   ],
   "source": [
    "Y"
   ]
  },
  {
   "cell_type": "code",
   "execution_count": 194,
   "id": "87ccf29e-b4f6-4efb-9118-9c2d1575ee0b",
   "metadata": {},
   "outputs": [
    {
     "data": {
      "text/plain": [
       "tensor([199075, 159466,  63647,  58507, 134861, 195407, 141550, 212726,   7468,\n",
       "         37126, 156808,  71154, 149292, 222891, 167488, 112593, 190447, 178752,\n",
       "        155332,  18532, 117733, 163633, 151208,  19962,  29691, 206924, 165803,\n",
       "        209395,  36382, 201868, 105548,  80709])"
      ]
     },
     "execution_count": 194,
     "metadata": {},
     "output_type": "execute_result"
    }
   ],
   "source": [
    "torch.randint(0, X.shape[0], size = (32,))"
   ]
  },
  {
   "cell_type": "code",
   "execution_count": 229,
   "id": "6b4599bb-675c-403a-8996-41b9a6710912",
   "metadata": {},
   "outputs": [
    {
     "data": {
      "text/plain": [
       "tensor(2.2955, grad_fn=<NllLossBackward0>)"
      ]
     },
     "execution_count": 229,
     "metadata": {},
     "output_type": "execute_result"
    }
   ],
   "source": [
    "# Evaluate the loss for all of X and Y\n",
    "emb = C[Xdev] # (32, 3, 2)\n",
    "h = torch.tanh(emb.view(-1, 6) @ W1 + b1)\n",
    "logits = h @ W2 + b2\n",
    "loss = F.cross_entropy(logits, Ydev)\n",
    "loss"
   ]
  },
  {
   "cell_type": "markdown",
   "id": "65690110-e319-4558-bf02-ae565c9971ae",
   "metadata": {},
   "source": [
    "training split:\n",
    "- 80%\n",
    "- used to train parameters\n",
    "\n",
    "dev/validation split: \n",
    "- 10%\n",
    "- used to train\n",
    "\n",
    "test split:\n",
    "- 10%\n",
    "- evaluate model performance"
   ]
  },
  {
   "cell_type": "code",
   "execution_count": 221,
   "id": "bde2b06c-c4ee-44b6-a141-9403e977f233",
   "metadata": {},
   "outputs": [
    {
     "name": "stdout",
     "output_type": "stream",
     "text": [
      "torch.Size([182625, 3]) torch.Size([182625])\n",
      "torch.Size([22655, 3]) torch.Size([22655])\n",
      "torch.Size([22866, 3]) torch.Size([22866])\n"
     ]
    }
   ],
   "source": [
    "# Build the dataset\n",
    "def build_dataset(words):\n",
    "    X, Y = [], [] # X: input, Y: labels for X\n",
    "    blocksize = 3 # context length: how many characters do we take to predict the next one\n",
    "    \n",
    "    for w in words:\n",
    "        #print(w) \n",
    "        context = [0]*blocksize # 3 indeces of chars\n",
    "        for ch in w+'.':\n",
    "            ix = stoi[ch] # current index of char\n",
    "            X.append(context) # append the three training indeces \n",
    "            Y.append(ix) # append the label index\n",
    "            #print(''.join(itos[i] for i in context), '--->', itos[ix])\n",
    "            context = context[1:] + [ix] # take out the first char and add the new ch index, like a moving window\n",
    "    X = torch.tensor(X)\n",
    "    Y = torch.tensor(Y)\n",
    "    print(X.shape, Y.shape)\n",
    "    return X, Y\n",
    "\n",
    "import random\n",
    "random.seed(42)\n",
    "random.shuffle(words)\n",
    "n1 = int(0.8*len(words))\n",
    "n2 = int(0.9*len(words))\n",
    "\n",
    "Xtr, Ytr = build_dataset(words[:n1])\n",
    "Xdev, Ydev = build_dataset(words[n1:n2]) # validation examples\n",
    "Xte, Yte = build_dataset(words[n2:])"
   ]
  },
  {
   "cell_type": "code",
   "execution_count": 223,
   "id": "cfbadf95-3de3-4ac8-8cf2-b6ac385fa6ad",
   "metadata": {},
   "outputs": [
    {
     "data": {
      "text/plain": [
       "(torch.Size([182625, 3]), torch.Size([182625]))"
      ]
     },
     "execution_count": 223,
     "metadata": {},
     "output_type": "execute_result"
    }
   ],
   "source": [
    "Xtr.shape, Ytr.shape # dataset for training"
   ]
  },
  {
   "cell_type": "code",
   "execution_count": 247,
   "id": "9f3895f0-4ff3-4a57-9c71-ffb022464b2e",
   "metadata": {},
   "outputs": [
    {
     "name": "stdout",
     "output_type": "stream",
     "text": [
      "a\n",
      "j\n",
      "f\n",
      "g\n",
      "d\n",
      "e\n",
      "n\n",
      "v\n",
      "t\n",
      "j\n",
      "s\n",
      "m\n",
      "m\n",
      "a\n",
      "b\n",
      "i\n",
      "d\n",
      "n\n",
      "s\n",
      "d\n"
     ]
    }
   ],
   "source": [
    "# How to sample from model (generate 20 samples)\n",
    "g = torch.Generator().manual_seed(42)\n",
    "block_size = 3\n",
    "\n",
    "for _ in range(20):\n",
    "    out = []\n",
    "    context = [0]*block_size\n",
    "    emb = C[torch.tensor([context])] # 1, block_size, d = 1, 3, 2, first dimension is size of training set\n",
    "    h = torch.tanh(emb.view(1, -1) @ W1 + b1)\n",
    "    logits = h @ W2 + b2\n",
    "    probs = F.softmax(logits, dim = 1)\n",
    "    ix = torch.multinomial(probs, num_samples = 1, generator=g).item()\n",
    "    context = context[1:] + [ix]\n",
    "    out.append(ix)\n",
    "    if ix == 0:\n",
    "        break\n",
    "    print(''.join(itos[i] for i in out))"
   ]
  },
  {
   "cell_type": "code",
   "execution_count": 243,
   "id": "bfbcb4c4-cc8b-483d-82f0-9bd9e840476f",
   "metadata": {},
   "outputs": [
    {
     "data": {
      "text/plain": [
       "torch.Size([3, 2])"
      ]
     },
     "execution_count": 243,
     "metadata": {},
     "output_type": "execute_result"
    }
   ],
   "source": [
    "C[torch.tensor([0,0,0])].shape"
   ]
  },
  {
   "cell_type": "markdown",
   "id": "096f8ff4-f622-4a7d-909c-728f13e7dc96",
   "metadata": {},
   "source": [
    "### ---------------------------------Code summarization------------------------------------- "
   ]
  },
  {
   "cell_type": "code",
   "execution_count": 251,
   "id": "577b2621-e480-4ff9-bb3a-8a0c3a1547ba",
   "metadata": {},
   "outputs": [],
   "source": [
    "import torch\n",
    "import torch.nn.functional as F\n",
    "import matplotlib.pyplot as plt"
   ]
  },
  {
   "cell_type": "code",
   "execution_count": 266,
   "id": "d7072889-6e37-4eb0-ba7e-c682e1b53390",
   "metadata": {},
   "outputs": [
    {
     "name": "stdout",
     "output_type": "stream",
     "text": [
      "Amount of names: 32033\n"
     ]
    },
    {
     "data": {
      "text/plain": [
       "['emma', 'olivia', 'ava', 'isabella', 'sophia']"
      ]
     },
     "execution_count": 266,
     "metadata": {},
     "output_type": "execute_result"
    }
   ],
   "source": [
    "words = open(\"names.txt\", \"r\").read().splitlines()\n",
    "print(f\"Amount of names: {len(words)}\")\n",
    "words[:5]"
   ]
  },
  {
   "cell_type": "code",
   "execution_count": 280,
   "id": "c211fcc3-a938-450d-b29d-c72e29c1d37a",
   "metadata": {},
   "outputs": [],
   "source": [
    "chars = list(sorted(set(''.join(words))))\n",
    "# Build vocabulary mapping dictionaries\n",
    "itos = {i+1:j for i,j in enumerate(chars)}\n",
    "# Add the . character\n",
    "itos[0] = \".\"\n",
    "stoi = {j:i for i,j in itos.items()}"
   ]
  },
  {
   "cell_type": "code",
   "execution_count": 297,
   "id": "fd763b50-4571-4f8d-967f-2516658e9916",
   "metadata": {},
   "outputs": [
    {
     "name": "stdout",
     "output_type": "stream",
     "text": [
      "torch.Size([228146, 3]) torch.Size([228146])\n"
     ]
    }
   ],
   "source": [
    "# Building datasets\n",
    "def build_datasets(words):\n",
    "    block_size = 3\n",
    "    X, Y = [], [] # X: training set, Y: label set\n",
    "    \n",
    "    for w in words:\n",
    "        w += \".\"\n",
    "        window = [0]*block_size\n",
    "        for i in range(0, len(w)):\n",
    "            Y.append(stoi[w[i]])\n",
    "            X.append(window)\n",
    "            #current_window_to_string = \"\".join([itos[x] for x in window])\n",
    "            #current_label = w[i]\n",
    "            #print(current_window_to_string + \"-->\" + current_label)\n",
    "            window = window[1:] + [stoi[w[i]]]\n",
    "    X = torch.tensor(X)\n",
    "    Y = torch.tensor(Y)\n",
    "    return X, Y\n",
    "X, Y = build_dataset(words)"
   ]
  },
  {
   "cell_type": "code",
   "execution_count": 298,
   "id": "b21ede97-e166-49bf-a182-8d43ef4b85a8",
   "metadata": {},
   "outputs": [
    {
     "data": {
      "text/plain": [
       "(torch.Size([228146, 3]), torch.int64, torch.Size([228146]), torch.int64)"
      ]
     },
     "execution_count": 298,
     "metadata": {},
     "output_type": "execute_result"
    }
   ],
   "source": [
    "X.shape, X.dtype, Y.shape, Y.dtype"
   ]
  },
  {
   "cell_type": "code",
   "execution_count": 299,
   "id": "1522eef1-1531-49a2-b3ce-a543f2169b49",
   "metadata": {},
   "outputs": [
    {
     "name": "stdout",
     "output_type": "stream",
     "text": [
      "torch.Size([182625, 3]) torch.Size([182625])\n",
      "torch.Size([22655, 3]) torch.Size([22655])\n",
      "torch.Size([22866, 3]) torch.Size([22866])\n"
     ]
    }
   ],
   "source": [
    "import random\n",
    "random.seed(42)\n",
    "random.shuffle(words)\n",
    "n1 = int(0.8*len(words))\n",
    "n2 = int(0.9*len(words))\n",
    "\n",
    "Xtr, Ytr = build_dataset(words[:n1])\n",
    "Xdev, Ydev = build_dataset(words[n1:n2])\n",
    "Xte, Yte = build_dataset(words[n2:])"
   ]
  },
  {
   "cell_type": "code",
   "execution_count": 347,
   "id": "ddd34f93-f144-4475-ac76-1afbfa49f720",
   "metadata": {},
   "outputs": [],
   "source": [
    "g = torch.Generator().manual_seed(42)\n",
    "C = torch.randn((27, 10), generator=g) # embedding table\n",
    "W1 = torch.randn((30, 300), generator=g)\n",
    "b1 = torch.randn(300, generator=g)\n",
    "W2 = torch.randn((300, 27), generator=g)\n",
    "b2 = torch.randn(27, generator=g)\n",
    "parameters = [C, W1, b1, W2, b2]"
   ]
  },
  {
   "cell_type": "code",
   "execution_count": 348,
   "id": "c8e459e6-4a04-4643-94d0-dacf0a974fea",
   "metadata": {},
   "outputs": [],
   "source": [
    "sum(p.nelement() for p in parameters) # number of parameters in total\n",
    "for p in parameters:\n",
    "  p.requires_grad = True"
   ]
  },
  {
   "cell_type": "code",
   "execution_count": 349,
   "id": "a4dc868a-c6f9-4220-8dc9-47b481d5fb8d",
   "metadata": {},
   "outputs": [],
   "source": [
    "lre = torch.linspace(-3, 0, 1000)\n",
    "lrs = 10**lre"
   ]
  },
  {
   "cell_type": "code",
   "execution_count": 350,
   "id": "48a27ec3-5c3b-4a11-8f7c-a3ff4cdd65db",
   "metadata": {},
   "outputs": [],
   "source": [
    "lri = []\n",
    "lossi = []\n",
    "stepi = []"
   ]
  },
  {
   "cell_type": "code",
   "execution_count": 354,
   "id": "1b714847-b28e-4549-95c8-35c4b833b336",
   "metadata": {},
   "outputs": [
    {
     "name": "stdout",
     "output_type": "stream",
     "text": [
      "1.9344227313995361\n"
     ]
    }
   ],
   "source": [
    "for i in range(50000):\n",
    "  \n",
    "  # minibatch construct\n",
    "  ix = torch.randint(0, Xtr.shape[0], (32,))\n",
    "  \n",
    "  # forward pass\n",
    "  emb = C[Xtr[ix]] # (32, 3, 10)\n",
    "  h = torch.tanh(emb.view(32, 30) @ W1 + b1) # (32, 200)\n",
    "  logits = h @ W2 + b2 # (32, 27)\n",
    "  loss = F.cross_entropy(logits, Ytr[ix])\n",
    "  #print(loss.item())\n",
    "  \n",
    "  # backward pass\n",
    "  for p in parameters:\n",
    "    p.grad = None\n",
    "  loss.backward()\n",
    "  \n",
    "  # update\n",
    "  #lr = lrs[i]\n",
    "  lr = 0.1 if i < 30000 else 0.01\n",
    "  for p in parameters:\n",
    "    p.data += -lr * p.grad\n",
    "\n",
    "  # track stats\n",
    "  #lri.append(lre[i])\n",
    "  stepi.append(i)\n",
    "  lossi.append(loss.log10().item())\n",
    "print(loss.item())"
   ]
  },
  {
   "cell_type": "code",
   "execution_count": 352,
   "id": "d435eb56-8895-4817-91a0-2cf97a6197f7",
   "metadata": {},
   "outputs": [
    {
     "data": {
      "text/plain": [
       "[<matplotlib.lines.Line2D at 0x121dfe7e0>]"
      ]
     },
     "execution_count": 352,
     "metadata": {},
     "output_type": "execute_result"
    },
    {
     "data": {
      "image/png": "[encoded data removed]",
      "text/plain": [
       "<Figure size 640x480 with 1 Axes>"
      ]
     },
     "metadata": {},
     "output_type": "display_data"
    }
   ],
   "source": [
    "plt.plot(stepi, lossi)"
   ]
  },
  {
   "cell_type": "code",
   "execution_count": 340,
   "id": "5db2c1c3-a8c9-4f4f-a90f-c40e5474cf10",
   "metadata": {},
   "outputs": [
    {
     "data": {
      "text/plain": [
       "tensor(2.2615, grad_fn=<NllLossBackward0>)"
      ]
     },
     "execution_count": 340,
     "metadata": {},
     "output_type": "execute_result"
    }
   ],
   "source": [
    "emb = C[Xtr] # (32, 3, 2)\n",
    "h = torch.tanh(emb.view(-1, 30) @ W1 + b1) # (32, 100)\n",
    "logits = h @ W2 + b2 # (32, 27)\n",
    "loss = F.cross_entropy(logits, Ytr)\n",
    "loss"
   ]
  },
  {
   "cell_type": "code",
   "execution_count": 341,
   "id": "8ec1829d-795f-4f29-bb50-31df40623254",
   "metadata": {},
   "outputs": [
    {
     "data": {
      "text/plain": [
       "tensor(2.3147, grad_fn=<NllLossBackward0>)"
      ]
     },
     "execution_count": 341,
     "metadata": {},
     "output_type": "execute_result"
    }
   ],
   "source": [
    "emb = C[Xdev] # (32, 3, 2)\n",
    "h = torch.tanh(emb.view(-1, 30) @ W1 + b1) # (32, 100)\n",
    "logits = h @ W2 + b2 # (32, 27)\n",
    "loss = F.cross_entropy(logits, Ydev)\n",
    "loss"
   ]
  },
  {
   "cell_type": "code",
   "execution_count": 336,
   "id": "8c67e2da-fad3-4c92-998f-5644bb489ca9",
   "metadata": {},
   "outputs": [
    {
     "data": {
      "text/plain": [
       "(torch.Size([182625, 3]),\n",
       " torch.Size([32, 3]),\n",
       " torch.Size([27, 10]),\n",
       " torch.Size([32, 3, 10]),\n",
       " torch.Size([32]))"
      ]
     },
     "execution_count": 336,
     "metadata": {},
     "output_type": "execute_result"
    }
   ],
   "source": [
    "ix = torch.randint(0, Xtr.shape[0], (32,))\n",
    "Xtr.shape, Xtr[ix].shape, C.shape, C[Xtr[ix]].shape, ix.shape"
   ]
  },
  {
   "cell_type": "code",
   "execution_count": 355,
   "id": "6264aefc-6eca-4fdd-992f-51874989cfc6",
   "metadata": {},
   "outputs": [
    {
     "data": {
      "image/png": "[encoded data removed]",
      "text/plain": [
       "<Figure size 800x800 with 1 Axes>"
      ]
     },
     "metadata": {},
     "output_type": "display_data"
    }
   ],
   "source": [
    "plt.figure(figsize=(8,8))\n",
    "plt.scatter(C[:,0].data, C[:,1].data, s=200)\n",
    "for i in range(C.shape[0]):\n",
    "    plt.text(C[i,0].item(), C[i,1].item(), itos[i], ha=\"center\", va=\"center\", color='white')\n",
    "plt.grid('minor')"
   ]
  },
  {
   "cell_type": "code",
   "execution_count": 358,
   "id": "9fd8be6f-04c2-4f09-8cd3-bba7a22f746a",
   "metadata": {},
   "outputs": [
    {
     "name": "stdout",
     "output_type": "stream",
     "text": [
      "lundin.\n",
      "mis.\n",
      "nasineeona.\n",
      "alee.\n",
      "natherretos.\n",
      "adan.\n",
      "antarrilyrire.\n",
      "kanise.\n",
      "malii.\n",
      "aristynte.\n",
      "hadanis.\n",
      "grut.\n",
      "miah.\n",
      "mikkarlit.\n",
      "lyn.\n",
      "jaalracal.\n",
      "dolyn.\n",
      "alan.\n",
      "gabkioustynn.\n",
      "sami.\n"
     ]
    }
   ],
   "source": [
    "for _ in range(20):\n",
    "    \n",
    "    out = []\n",
    "    context = [0] * block_size # initialize with all ...\n",
    "    while True:\n",
    "      emb = C[torch.tensor([context])] # (1,block_size,d)\n",
    "      h = torch.tanh(emb.view(1, -1) @ W1 + b1)\n",
    "      logits = h @ W2 + b2\n",
    "      probs = F.softmax(logits, dim=1)\n",
    "      ix = torch.multinomial(probs, num_samples=1, generator=g).item()\n",
    "      context = context[1:] + [ix]\n",
    "      out.append(ix)\n",
    "      if ix == 0:\n",
    "        break\n",
    "    \n",
    "    print(''.join(itos[i] for i in out))"
   ]
  }
 ],
 "metadata": {
  "kernelspec": {
   "display_name": "Python 3 (ipykernel)",
   "language": "python",
   "name": "python3"
  },
  "language_info": {
   "codemirror_mode": {
    "name": "ipython",
    "version": 3
   },
   "file_extension": ".py",
   "mimetype": "text/x-python",
   "name": "python",
   "nbconvert_exporter": "python",
   "pygments_lexer": "ipython3",
   "version": "3.12.2"
  }
 },
 "nbformat": 4,
 "nbformat_minor": 5
}
